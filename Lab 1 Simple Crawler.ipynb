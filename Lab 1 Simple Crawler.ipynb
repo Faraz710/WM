{
 "cells": [
  {
   "cell_type": "markdown",
   "metadata": {},
   "source": [
    "# <center>CSE3024 Lab 1: Simple Web Crawler</center>\n",
    "<h3 align=\"right\">Faraz Suhail</h3> \n",
    "<h3 align=\"right\">19BCE1525</h3> "
   ]
  },
  {
   "cell_type": "markdown",
   "metadata": {},
   "source": [
    "### Ques 1. Given a root URL, e.g., `vit.ac.in`, Design a simple crawler using Python to return all pages that contains a string `admissions` from this site. Store the crawled urls into a .txt/ .csv/ .xls file for quick retrieval in future."
   ]
  },
  {
   "cell_type": "code",
   "execution_count": 1,
   "metadata": {},
   "outputs": [],
   "source": [
    "import requests\n",
    "from bs4 import BeautifulSoup\n",
    "import re"
   ]
  },
  {
   "cell_type": "code",
   "execution_count": 2,
   "metadata": {},
   "outputs": [],
   "source": [
    "# Taking  Duke university URL\n",
    "root_URL = \"https://duke.edu/\"\n",
    "search_word = \"admissions\""
   ]
  },
  {
   "cell_type": "code",
   "execution_count": 3,
   "metadata": {},
   "outputs": [
    {
     "name": "stdout",
     "output_type": "stream",
     "text": [
      "Status of the response :  200\n"
     ]
    }
   ],
   "source": [
    "# Use the requests library to retrieve the web page of the root URL\n",
    "response = requests.get(root_URL)\n",
    "print(\"Status of the response : \", response.status_code)"
   ]
  },
  {
   "cell_type": "code",
   "execution_count": 5,
   "metadata": {},
   "outputs": [],
   "source": [
    "# Use the Beautiful Soap library to parse the retrieved web page\n",
    "root_page = BeautifulSoup(response.content, 'html.parser')\n",
    "# Retrieve all the links to the sub-pages by retrieving all the `<a>` tags\n",
    "anchor_tags = root_page.find_all('a')\n",
    "\n",
    "# Check if the word \"admission\" is present in each page, and if so then save its URL\n",
    "result = []\n",
    "for anchor_tag in anchor_tags :\n",
    "    link = anchor_tag['href']\n",
    "    if re.search(search_word, link, re.IGNORECASE) :\n",
    "        result.append(link)"
   ]
  },
  {
   "cell_type": "code",
   "execution_count": 6,
   "metadata": {
    "scrolled": true
   },
   "outputs": [
    {
     "name": "stdout",
     "output_type": "stream",
     "text": [
      "The links in the root URL page which contains the word 'admissions' are :\n",
      "\t https://admissions.duke.edu\n",
      "\t https://admissions.duke.edu/\n",
      "\t https://admissions.duke.edu/visit/\n",
      "\t https://admissions.duke.edu/apply/\n",
      "\t https://admissions.duke.edu/financial-support/\n",
      "\t https://admissions.duke.edu/parents\n",
      "\t https://admissions.duke.edu/counselors/\n",
      "\t https://admissions.duke.edu/resources-tools/\n",
      "\t https://admissions.duke.edu/faqs/\n",
      "\t https://dukekunshan.edu.cn/en/undergraduate-admissions-china\n",
      "\t https://divinity.duke.edu/admissions\n",
      "\t https://medschool.duke.edu/education/student-services/office-admissions\n",
      "\t https://nicholas.duke.edu/admissions\n",
      "\t https://www.duke-nus.edu.sg/admissions/\n",
      "\t https://admissions.duke.edu/academic-possibilities/\n",
      "\t https://admissions.duke.edu/academic-life/\n",
      "\t https://admissions.duke.edu/beyond-campus/\n",
      "\t https://medschool.duke.edu/education/degree-programs-and-admissions\n",
      "\t https://admissions.duke.edu/visit/\n",
      "\t https://admissions.duke.edu/durham/\n"
     ]
    }
   ],
   "source": [
    "print(\"The links in the root URL page which contains the word 'admissions' are :\")\n",
    "for url in result:\n",
    "    print(\"\\t\", url)"
   ]
  },
  {
   "cell_type": "code",
   "execution_count": 7,
   "metadata": {},
   "outputs": [],
   "source": [
    "# Store the crawled urls into a .txt file \n",
    "f = open(\"lab1.txt\", \"w\")\n",
    "for url in result:\n",
    "    f.writelines(url)\n",
    "    f.writelines(\"\\n\")\n",
    "f.close()"
   ]
  },
  {
   "cell_type": "markdown",
   "metadata": {},
   "source": [
    "\n",
    "\n",
    "### Ques 2.\tFind documents that contain the word “admissions” and the word “international” within the URL “Vit.ac.in” using Python."
   ]
  },
  {
   "cell_type": "code",
   "execution_count": 8,
   "metadata": {},
   "outputs": [],
   "source": [
    "root_URL = \"https://vit.ac.in/\"\n",
    "search_words = [\"admissions\", \"international\"]\n",
    "response = requests.get(root_URL)\n",
    "root_page = BeautifulSoup(response.content, 'html.parser')\n",
    "anchor_tags = root_page.find_all('a')"
   ]
  },
  {
   "cell_type": "code",
   "execution_count": 9,
   "metadata": {
    "scrolled": true
   },
   "outputs": [],
   "source": [
    "result = []\n",
    "for anchor_tag in anchor_tags :\n",
    "    link = anchor_tag['href']\n",
    "    # Avoid duplicates\n",
    "    if link not in result:\n",
    "        if re.search(\"admissions\", link, re.IGNORECASE) and re.search(\"international\", link, re.IGNORECASE):\n",
    "            result.append(link)"
   ]
  },
  {
   "cell_type": "code",
   "execution_count": 10,
   "metadata": {},
   "outputs": [
    {
     "name": "stdout",
     "output_type": "stream",
     "text": [
      "The links of URL page which contain words 'admissions' and 'international' are :\n",
      "\t https://vit.ac.in/admissions/international\n",
      "\t https://vit.ac.in/admissions/international/overview\n"
     ]
    }
   ],
   "source": [
    "print(\"The links of URL page which contain words 'admissions' and 'international' are :\")\n",
    "for url in result:\n",
    "    print(\"\\t\", url)"
   ]
  },
  {
   "cell_type": "markdown",
   "metadata": {},
   "source": [
    "\n",
    "\n",
    "### Ques 3.\tFind documents that contain the word “Programme” but not the word “programming” within the URL “Vit.ac.in” using Python"
   ]
  },
  {
   "cell_type": "code",
   "execution_count": 11,
   "metadata": {},
   "outputs": [],
   "source": [
    "root_URL = \"https://vit.ac.in/\"\n",
    "response = requests.get(root_URL)\n",
    "root_page = BeautifulSoup(response.content, 'html.parser')\n",
    "anchor_tags = root_page.find_all('a')"
   ]
  },
  {
   "cell_type": "code",
   "execution_count": 12,
   "metadata": {
    "scrolled": true
   },
   "outputs": [
    {
     "name": "stdout",
     "output_type": "stream",
     "text": [
      "The links of URL page which contain word 'Programme' but not the word 'programming' are :\n",
      "\t https://vit.ac.in/programmes-offered-1\n",
      "\t https://vit.ac.in/programmes-offered-2021-22\n",
      "\t https://vit.ac.in/programmes-offered-2020-21\n",
      "\t https://vit.ac.in/admissions/programmes-offered\n"
     ]
    }
   ],
   "source": [
    "print(\"The links of URL page which contain word 'Programme' but not the word 'programming' are :\")\n",
    "for anchor_tag in anchor_tags :\n",
    "    link = anchor_tag['href']\n",
    "    # contains 'Programme' but not 'programming'\n",
    "    if re.search(r\"^(?!.*programming).*Programmes.*$\", link, re.IGNORECASE):\n",
    "        print(\"\\t\", link)"
   ]
  },
  {
   "cell_type": "markdown",
   "metadata": {},
   "source": [
    "\n",
    "\n",
    "### Ques 4.\tWrite a web crawler program which takes as input a url (Educational website) and a search key word and maximum number of pages (15-20 Pages)  to be searched and returns as output all the web pages it searched till it found the search word on a web page or return failure."
   ]
  },
  {
   "cell_type": "code",
   "execution_count": 13,
   "metadata": {
    "scrolled": true
   },
   "outputs": [
    {
     "name": "stdout",
     "output_type": "stream",
     "text": [
      "Web Crawler\n",
      "Type url: https://www.stanford.edu/\n",
      "Type search keyword: news\n",
      "Type max no of pages: 18\n"
     ]
    }
   ],
   "source": [
    "# Taking  University of Pennsylvania URL and news as searchword\n",
    "print(\"Web Crawler\")\n",
    "root_URL = input(\"Type url: \")\n",
    "search_word = input(\"Type search keyword: \")\n",
    "max_pages = input(\"Type max no of pages: \")"
   ]
  },
  {
   "cell_type": "code",
   "execution_count": 14,
   "metadata": {},
   "outputs": [
    {
     "name": "stdout",
     "output_type": "stream",
     "text": [
      "Links searched till it found the search word :\n",
      "\t #main-content\n",
      "\t https://www.stanford.edu/\n",
      "\t https://www.stanford.edu/student-gateway/\n",
      "\t https://www.stanford.edu/faculty-staff-gateway/\n",
      "\t http://parents.stanford.edu/\n",
      "\t https://visit.stanford.edu\n",
      "\t http://alumni.stanford.edu/\n",
      "\t https://healthalerts.stanford.edu/covid-19/\n",
      "\n",
      "The link in URL page which contains the word news are :\n",
      "\t https://www.stanford.edu/news/\n"
     ]
    }
   ],
   "source": [
    "response = requests.get(root_URL)\n",
    "root_page = BeautifulSoup(response.content, 'html.parser')\n",
    "anchor_tags = root_page.find_all('a')\n",
    "\n",
    "count = 0\n",
    "result = \"\"\n",
    "isFound = False\n",
    "\n",
    "print(\"Links searched till it found the search word :\")\n",
    "for anchor_tag in anchor_tags :\n",
    "    if count == max_pages:\n",
    "        break\n",
    "    count+=1\n",
    "    link = anchor_tag['href']\n",
    "    if re.search(search_word, link, re.IGNORECASE) :\n",
    "        isFound = True\n",
    "        result=link\n",
    "        break\n",
    "    else:\n",
    "        print(\"\\t\", link)\n",
    "        \n",
    "if isFound:\n",
    "    print(format(\"\\nThe link in URL page which contains the word {} are :\".format(search_word)))\n",
    "    print(\"\\t\", result)\n",
    "else:\n",
    "    print(\"\\nFailure: failed to find keyword\")"
   ]
  }
 ],
 "metadata": {
  "kernelspec": {
   "display_name": "Python 3",
   "language": "python",
   "name": "python3"
  },
  "language_info": {
   "codemirror_mode": {
    "name": "ipython",
    "version": 3
   },
   "file_extension": ".py",
   "mimetype": "text/x-python",
   "name": "python",
   "nbconvert_exporter": "python",
   "pygments_lexer": "ipython3",
   "version": "3.7.1"
  }
 },
 "nbformat": 4,
 "nbformat_minor": 4
}
