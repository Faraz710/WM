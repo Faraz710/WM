{
 "cells": [
  {
   "cell_type": "markdown",
   "metadata": {
    "id": "hTs67zeE_4vx"
   },
   "source": [
    "# <center>CSE3024 Lab 5: Index Compression </center>\n",
    "<h3 align=\"right\">Faraz Suhail</h3> \n",
    "<h3 align=\"right\">19BCE1525</h3> "
   ]
  },
  {
   "cell_type": "markdown",
   "metadata": {
    "id": "X6W9GquxAE0r"
   },
   "source": [
    "### Ques 1.\tApply run length encoding for the following string and compress it."
   ]
  },
  {
   "cell_type": "code",
   "execution_count": 9,
   "metadata": {
    "colab": {
     "base_uri": "https://localhost:8080/"
    },
    "id": "F6zv3Pg5mT2v",
    "outputId": "70d3a02c-e511-44c1-9b2e-3f1f5791ef26"
   },
   "outputs": [],
   "source": [
    "def encodes(message):\n",
    "    encoded_string = \"\"\n",
    "    i = 0\n",
    "    while (i <= len(message)-1):\n",
    "        count = 1\n",
    "        ch = message[i]\n",
    "        j = i\n",
    "        while (j < len(message)-1): \n",
    "            if (message[j] == message[j + 1]): \n",
    "                count = count + 1\n",
    "                j = j + 1\n",
    "            else: \n",
    "                break\n",
    "        encoded_string = encoded_string + str(count) + ch\n",
    "        i = j + 1\n",
    "    return encoded_string"
   ]
  },
  {
   "cell_type": "code",
   "execution_count": 11,
   "metadata": {},
   "outputs": [],
   "source": [
    "def decodes(message):\n",
    "    decoded_message = \"\"\n",
    "    i=0\n",
    "    j=0\n",
    "    while (i <= len(message)-1):\n",
    "        run_count = int(message[i])\n",
    "        run_word = message[i + 1]\n",
    "        for j in range(run_count):\n",
    "            decoded_message = decoded_message+run_word\n",
    "            j = j + 1\n",
    "        i = i + 2\n",
    "    return decoded_message"
   ]
  },
  {
   "cell_type": "code",
   "execution_count": 14,
   "metadata": {},
   "outputs": [
    {
     "name": "stdout",
     "output_type": "stream",
     "text": [
      "Original message: faaarrrrrrrrraaaaaaaz\n",
      "Encoded message: 1f3a9r7a1z\n",
      "Decoded message: faaarrrrrrrrraaaaaaaz\n",
      "\n"
     ]
    }
   ],
   "source": [
    "message = \"faaarrrrrrrrraaaaaaaz\"\n",
    "encoded_message=encodes(message)\n",
    "decoded_message=decodes(encoded_message)\n",
    "print(\"Original message: \"+message+\"\\nEncoded message: \"+encoded_message+\"\\nDecoded message: \"+decoded_message+\"\\n\")"
   ]
  },
  {
   "attachments": {
    "image.png": {
     "image/png": "[encoded data removed]"
    }
   },
   "cell_type": "markdown",
   "metadata": {
    "id": "X6W9GquxAE0r"
   },
   "source": [
    "### Ques 2.\tConsider the following Inverted Index File with Terms, Occurrences and Posting List\n",
    "\n",
    "![image.png](attachment:image.png)\n",
    "\n",
    "i.\tApply Binary coding for term “Mercury” (apply for all doc ids)\n",
    "\n",
    "ii.\tApply Unary coding for term “Fiber”\n",
    "\n",
    "iii.\tApply Elias Gamma Encoding for term “Airtel”\n",
    "\n",
    "iv.\tApply Elias Delta Decoding for “000010000”\n",
    "\n",
    "v.\tApply Elias Delta Encoding for term “Venus”\n",
    "\n",
    "vi.\tApply Elias Delta Decoding for “00101001”\n",
    "\n",
    "vii.\tApply Variable Byte Encoding for “Samsung”. (Use doc ids gap)\n"
   ]
  },
  {
   "cell_type": "code",
   "execution_count": 3,
   "metadata": {
    "id": "-2gt4mDaLnEh"
   },
   "outputs": [],
   "source": [
    "# Create a dictionary where multiple values are associated with a key\n",
    "inverted_index = {'Samsung'   : [2, 12, 34544, 34574, 35569],\n",
    "             'Airtel'   : [12, 17, 25, 148, 156, 159, 172],\n",
    "             'Mercury' : [1, 2, 3, 7, 9, 10],\n",
    "             'Venus' : [23, 45, 78, 122, 145],\n",
    "             'Fiber'  : [1, 3, 5, 7, 19, 20] }\n",
    "\n",
    "# Get multiple values of a key as list\n",
    "mercury = inverted_index['Mercury']\n",
    "airtel = inverted_index['Airtel']\n",
    "fiber = inverted_index['Fiber']\n",
    "venus = inverted_index['Venus']\n",
    "samsung = inverted_index['Samsung']"
   ]
  },
  {
   "cell_type": "code",
   "execution_count": 15,
   "metadata": {
    "colab": {
     "base_uri": "https://localhost:8080/"
    },
    "id": "XakfOydvT0MX",
    "outputId": "d206053c-6a90-48c5-cc64-2f22cd4886aa"
   },
   "outputs": [
    {
     "name": "stdout",
     "output_type": "stream",
     "text": [
      "1. Binary coding for term “Mercury”\n",
      "1\n",
      "10\n",
      "11\n",
      "111\n",
      "1001\n",
      "1010\n"
     ]
    }
   ],
   "source": [
    "from math import log\n",
    "log2 = lambda x: log(x, 2)\n",
    "\n",
    "def Binary(x, l = 1):\n",
    "    s = '{0:0%db}' % l\n",
    "    return s.format(x)\n",
    "    \n",
    "print(\"1. Binary coding for term “Mercury”\")\n",
    "for i,num in enumerate(mercury):\n",
    "  x=mercury[i]  \n",
    "  print(Binary(x))"
   ]
  },
  {
   "cell_type": "code",
   "execution_count": 16,
   "metadata": {
    "colab": {
     "base_uri": "https://localhost:8080/"
    },
    "id": "XakfOydvT0MX",
    "outputId": "d206053c-6a90-48c5-cc64-2f22cd4886aa"
   },
   "outputs": [
    {
     "name": "stdout",
     "output_type": "stream",
     "text": [
      "\n",
      "2. Unary coding for term “Fiber”\n",
      "1\n",
      "001\n",
      "00001\n",
      "0000001\n",
      "0000000000000000001\n",
      "00000000000000000001\n"
     ]
    }
   ],
   "source": [
    "def Unary(x):\n",
    "    return (x-1)*'0'+'1'\n",
    "\n",
    "print(\"\\n2. Unary coding for term “Fiber”\")\n",
    "for i,num in enumerate(fiber):\n",
    "  x=fiber[i]  \n",
    "  print(Unary(x))"
   ]
  },
  {
   "cell_type": "code",
   "execution_count": 17,
   "metadata": {
    "colab": {
     "base_uri": "https://localhost:8080/"
    },
    "id": "XakfOydvT0MX",
    "outputId": "d206053c-6a90-48c5-cc64-2f22cd4886aa"
   },
   "outputs": [
    {
     "name": "stdout",
     "output_type": "stream",
     "text": [
      "\n",
      "3. Elias Gamma Encoding for term “Airtel”\n",
      "0001100\n",
      "000010001\n",
      "000011001\n",
      "000000010010100\n",
      "000000010011100\n",
      "000000010011111\n",
      "000000010101100\n"
     ]
    }
   ],
   "source": [
    "def Elias_Gamma(x):\n",
    "    if(x == 0):\n",
    "        return '0'\n",
    "\n",
    "    n = 1 + int(log2(x))\n",
    "    b = x - 2**(int(log2(x)))\n",
    "\n",
    "    l = int(log2(x))\n",
    "\n",
    "    return Unary(n) + Binary(b, l)\n",
    "\n",
    "print(\"\\n3. Elias Gamma Encoding for term “Airtel”\")\n",
    "for i,num in enumerate(airtel):\n",
    "  x=airtel[i]    \n",
    "  print(Elias_Gamma(x))"
   ]
  },
  {
   "cell_type": "code",
   "execution_count": 20,
   "metadata": {},
   "outputs": [
    {
     "name": "stdout",
     "output_type": "stream",
     "text": [
      "\n",
      "4.Elias Delta Decoding for “000010000”\n",
      "Decoded number:  1\n",
      "\n",
      "5. Elias Delta Encoding for term “Venus”\n",
      "001010111\n",
      "0011001101\n",
      "00111001110\n",
      "00111111010\n",
      "00010000010001\n",
      "\n",
      "6.Elias Delta Decoding for “00101001”\n",
      "Decoded number:  3\n"
     ]
    }
   ],
   "source": [
    "import math\n",
    "def Elias_Delta_Decoding(x):\n",
    "    x = list(x)\n",
    "    L = 0\n",
    "    while True:\n",
    "        if not x[L] == '0':\n",
    "            break\n",
    "        L = L + 1\n",
    "        \n",
    "    # Reading L more bits and dropping ALL  \n",
    "    x = x[2*L+1:]\n",
    "    \n",
    "    # Prepending with 1 in MSB\n",
    "    x.reverse()\n",
    "    x.insert(0, '1')\n",
    "    n = 0\n",
    "    \n",
    "    # Converting binary to integer\n",
    "    for i in range(len(x)):\n",
    "        if x[i] == '1':\n",
    "            n = n+math.pow(2, i)\n",
    "    return int(n)\n",
    "\n",
    "\n",
    "x = '000010000'\n",
    "print(\"\\n4.Elias Delta Decoding for “000010000”\\nDecoded number: \",Elias_Delta_Decoding(x))\n",
    "\n",
    "from math import floor\n",
    "def Binary_Representation_Without_MSB(x):\n",
    "    binary = \"{0:b}\".format(int(x))\n",
    "    binary_without_MSB = binary[1:]\n",
    "    return binary_without_MSB\n",
    "\n",
    "def EliasGammaEncode(k):\n",
    "    if (k == 0):\n",
    "        return '0'\n",
    "    N = 1 + floor(log(k, 2))\n",
    "    Unary = (N-1)*'0'+'1'\n",
    "    return Unary + Binary_Representation_Without_MSB(k)\n",
    "\n",
    "def EliasDeltaEncode(x):\n",
    "    Gamma = EliasGammaEncode(1 + floor(log(k, 2)))\n",
    "    binary_without_MSB = Binary_Representation_Without_MSB(k)\n",
    "    return Gamma+binary_without_MSB\n",
    "\n",
    "print(\"\\n5. Elias Delta Encoding for term “Venus”\")\n",
    "for i,num in enumerate(venus):\n",
    "  k=venus[i]  \n",
    "  print(EliasDeltaEncode(k))\n",
    "\n",
    "\n",
    "y = '00101001'\n",
    "print(\"\\n6.Elias Delta Decoding for “00101001”\\nDecoded number: \",Elias_Delta_Decoding(y))"
   ]
  },
  {
   "cell_type": "code",
   "execution_count": 21,
   "metadata": {},
   "outputs": [
    {
     "name": "stdout",
     "output_type": "stream",
     "text": [
      "\n",
      "7. Variable Byte Encoding for “Samsung”. \n",
      "Encoded:  b'\\x82'\n",
      "Decoded:  [2]\n",
      "Encoded:  b'\\x8c'\n",
      "Decoded:  [12]\n",
      "Encoded:  b'\\x02\\r\\xf0'\n",
      "Decoded:  [34544]\n",
      "Encoded:  b'\\x02\\x0e\\x8e'\n",
      "Decoded:  [34574]\n",
      "Encoded:  b'\\x02\\x15\\xf1'\n",
      "Decoded:  [35569]\n"
     ]
    }
   ],
   "source": [
    "from __future__ import division \n",
    "from struct import pack, unpack\n",
    "\n",
    "def encode_number(number):\n",
    "  \n",
    "    bytes_list = []\n",
    "    while True:\n",
    "        bytes_list.insert(0, number % 128)\n",
    "        if number < 128:\n",
    "            break\n",
    "        number = number // 128\n",
    "    bytes_list[-1] += 128\n",
    "    return pack('%dB' % len(bytes_list), *bytes_list)\n",
    "\n",
    "def encode(numbers):\n",
    "    bytes_list = []\n",
    "    for number in numbers:\n",
    "        bytes_list.append(encode_number(number))\n",
    "    return b\"\".join(bytes_list)\n",
    "\n",
    "def decode(bytestream):\n",
    "    n = 0\n",
    "    numbers = []\n",
    "    bytestream = unpack('%dB' % len(bytestream), bytestream)\n",
    "    for byte in bytestream:\n",
    "        if byte < 128:\n",
    "            n = 128 * n + byte\n",
    "        else:\n",
    "            n = 128 * n + (byte - 128)\n",
    "            numbers.append(n)\n",
    "            n = 0\n",
    "    return numbers\n",
    "\n",
    "print(\"\\n7. Variable Byte Encoding for “Samsung”. \")\n",
    "for i,num in enumerate(samsung):\n",
    "  x=[samsung[i]]  \n",
    "  print(\"Encoded: \", encode(x))\n",
    "  print(\"Decoded: \" ,decode(encode(x)))"
   ]
  }
 ],
 "metadata": {
  "colab": {
   "collapsed_sections": [],
   "name": "WebMining lab-5.ipynb",
   "provenance": []
  },
  "kernelspec": {
   "display_name": "Python 3",
   "language": "python",
   "name": "python3"
  },
  "language_info": {
   "codemirror_mode": {
    "name": "ipython",
    "version": 3
   },
   "file_extension": ".py",
   "mimetype": "text/x-python",
   "name": "python",
   "nbconvert_exporter": "python",
   "pygments_lexer": "ipython3",
   "version": "3.7.1"
  }
 },
 "nbformat": 4,
 "nbformat_minor": 1
}
